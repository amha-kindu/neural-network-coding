{
  "nbformat": 4,
  "nbformat_minor": 0,
  "metadata": {
    "colab": {
      "provenance": [],
      "authorship_tag": "ABX9TyMa4qVOFa4W7xokKZdeEts4",
      "include_colab_link": true
    },
    "kernelspec": {
      "name": "python3",
      "display_name": "Python 3"
    },
    "language_info": {
      "name": "python"
    }
  },
  "cells": [
    {
      "cell_type": "markdown",
      "metadata": {
        "id": "view-in-github",
        "colab_type": "text"
      },
      "source": [
        "<a href=\"https://colab.research.google.com/github/amha-kindu/neural-network-coding/blob/main/Amha_Kindu_Lab_2_Excercise.ipynb\" target=\"_parent\"><img src=\"https://colab.research.google.com/assets/colab-badge.svg\" alt=\"Open In Colab\"/></a>"
      ]
    },
    {
      "cell_type": "code",
      "source": [
        "import torch"
      ],
      "metadata": {
        "id": "WsokQa_mZYUW"
      },
      "execution_count": 195,
      "outputs": []
    },
    {
      "cell_type": "code",
      "execution_count": 196,
      "metadata": {
        "id": "k1c--UvVYsAO"
      },
      "outputs": [],
      "source": [
        "class DenseLayer:\n",
        "  activations = {\n",
        "      \"relu\": lambda x: torch.max(torch.tensor(0, dtype=x.dtype), x),\n",
        "      \"softmax\": lambda x, dim=1: torch.exp(x - torch.max(x, dim=dim, keepdim=True).values) / torch.exp(x - torch.max(x, dim=dim, keepdim=True).values).sum(dim=dim, keepdim=True),\n",
        "      \"sigmoid\": lambda x: 1 / (1 + torch.exp(-x))\n",
        "  }\n",
        "  def __init__(self, features=1, neurons=1, activation=\"relu\"):\n",
        "    self.weights = torch.rand(features, neurons)\n",
        "    self.bias = torch.rand((1, neurons))\n",
        "    self.activation = activation\n",
        "\n",
        "  def forward(self, inputs):\n",
        "    activation = DenseLayer.activations[self.activation]\n",
        "    return activation(torch.matmul(inputs, self.weights) + self.bias)"
      ]
    },
    {
      "cell_type": "code",
      "source": [
        "class NeuralNetwork:\n",
        "    def __init__(self, layers: list[DenseLayer]):\n",
        "        self.layers = layers\n",
        "\n",
        "    def forward(self, inputs):\n",
        "        output = inputs\n",
        "        for layer in self.layers:\n",
        "            output = layer.forward(output)\n",
        "        return output\n",
        "\n",
        "    def cross_entropy_loss(self, prediction, target):\n",
        "      return -torch.sum(prediction * torch.log(target))\n",
        "\n",
        "    def accuracy(self, prediction, target):\n",
        "      _, predicted_classes = torch.max(prediction, 1)\n",
        "      _, true_classes = torch.max(target, 1)\n",
        "\n",
        "      correct_predictions = (predicted_classes == true_classes).sum().item()\n",
        "      return correct_predictions / target.size(0)"
      ],
      "metadata": {
        "id": "iUUNdjgaZ4aa"
      },
      "execution_count": 197,
      "outputs": []
    },
    {
      "cell_type": "code",
      "source": [
        "model = NeuralNetwork([\n",
        "    DenseLayer(4, 18, \"relu\"),\n",
        "    DenseLayer(18, 18, \"sigmoid\"),\n",
        "    DenseLayer(18, 18, \"relu\"),\n",
        "    DenseLayer(18, 3, \"softmax\")\n",
        "])\n",
        "model.layers"
      ],
      "metadata": {
        "colab": {
          "base_uri": "https://localhost:8080/"
        },
        "id": "47sq02hCbAUj",
        "outputId": "5360ae70-bba5-4881-aad3-4dd49c81710f"
      },
      "execution_count": 198,
      "outputs": [
        {
          "output_type": "execute_result",
          "data": {
            "text/plain": [
              "[<__main__.DenseLayer at 0x7e8f917957e0>,\n",
              " <__main__.DenseLayer at 0x7e8f91797e20>,\n",
              " <__main__.DenseLayer at 0x7e8f91797970>,\n",
              " <__main__.DenseLayer at 0x7e8f91795f60>]"
            ]
          },
          "metadata": {},
          "execution_count": 198
        }
      ]
    },
    {
      "cell_type": "code",
      "source": [
        "x = torch.rand(1, 4)\n",
        "target = torch.rand(1, 3)\n",
        "print(f\"Input: {x}\\nTarget: {target}\")"
      ],
      "metadata": {
        "colab": {
          "base_uri": "https://localhost:8080/"
        },
        "id": "BZKkyi0PbvKJ",
        "outputId": "f7ec98fd-20d2-4586-947b-9a119b0d1ed5"
      },
      "execution_count": 199,
      "outputs": [
        {
          "output_type": "stream",
          "name": "stdout",
          "text": [
            "Input: tensor([[0.1313, 0.4521, 0.2792, 0.7056]])\n",
            "Target: tensor([[0.7202, 0.9284, 0.1668]])\n"
          ]
        }
      ]
    },
    {
      "cell_type": "code",
      "source": [
        "prediction = model.forward(x)\n",
        "prediction"
      ],
      "metadata": {
        "colab": {
          "base_uri": "https://localhost:8080/"
        },
        "id": "vEXd1pvHb7uO",
        "outputId": "faaf6c4e-da31-4f3b-e750-4ac4ebdf80b5"
      },
      "execution_count": 200,
      "outputs": [
        {
          "output_type": "execute_result",
          "data": {
            "text/plain": [
              "tensor([[5.5593e-05, 9.9916e-01, 7.8194e-04]])"
            ]
          },
          "metadata": {},
          "execution_count": 200
        }
      ]
    },
    {
      "cell_type": "code",
      "source": [
        "loss = model.cross_entropy_loss(prediction, target)\n",
        "accuracy = model.accuracy(prediction, target)\n",
        "print(f\"Cross-entropy loss: {loss}\\nAccuracy: {accuracy}\")"
      ],
      "metadata": {
        "colab": {
          "base_uri": "https://localhost:8080/"
        },
        "id": "rwfFcS_Mwh_x",
        "outputId": "160719d6-c7ef-47ca-f3a7-f564d9faa491"
      },
      "execution_count": 201,
      "outputs": [
        {
          "output_type": "stream",
          "name": "stdout",
          "text": [
            "Cross-entropy loss: 0.07568231970071793\n",
            "Accuracy: 1.0\n"
          ]
        }
      ]
    }
  ]
}