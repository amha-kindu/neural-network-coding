{
  "nbformat": 4,
  "nbformat_minor": 0,
  "metadata": {
    "colab": {
      "provenance": [],
      "authorship_tag": "ABX9TyMkI3IHspevZ8BS1pwAvbAt",
      "include_colab_link": true
    },
    "kernelspec": {
      "name": "python3",
      "display_name": "Python 3"
    },
    "language_info": {
      "name": "python"
    }
  },
  "cells": [
    {
      "cell_type": "markdown",
      "metadata": {
        "id": "view-in-github",
        "colab_type": "text"
      },
      "source": [
        "<a href=\"https://colab.research.google.com/github/amha-kindu/neural-network-coding/blob/main/Amha_Kindu_Lab_2_Excercise.ipynb\" target=\"_parent\"><img src=\"https://colab.research.google.com/assets/colab-badge.svg\" alt=\"Open In Colab\"/></a>"
      ]
    },
    {
      "cell_type": "code",
      "source": [
        "import torch"
      ],
      "metadata": {
        "id": "WsokQa_mZYUW"
      },
      "execution_count": null,
      "outputs": []
    },
    {
      "cell_type": "code",
      "execution_count": null,
      "metadata": {
        "id": "k1c--UvVYsAO"
      },
      "outputs": [],
      "source": [
        "class DenseLayer:\n",
        "  def __init__(self, features=1, neurons=1):\n",
        "    self.weights = torch.rand(features, neurons)\n",
        "    self.bias = torch.zeros((1, neurons))\n",
        "\n",
        "  def forward(self, inputs):\n",
        "    self.output = torch.matmul(inputs, self.weights) + self.bias\n",
        "    return self.output"
      ]
    },
    {
      "cell_type": "code",
      "source": [
        "class NeuralNetwork:\n",
        "    def __init__(self, layers: list[int]):\n",
        "        self.layers = layers\n",
        "\n",
        "    def forward(self, inputs):\n",
        "        output = inputs\n",
        "        for layer in self.layers:\n",
        "            output = layer.forward(output)\n",
        "        return output\n"
      ],
      "metadata": {
        "id": "iUUNdjgaZ4aa"
      },
      "execution_count": null,
      "outputs": []
    },
    {
      "cell_type": "code",
      "source": [
        "# model = NeuralNetwork([5, 16, 16, 16, 5])\n",
        "model = NeuralNetwork([\n",
        "    DenseLayer(5, 16),\n",
        "    DenseLayer(16, 16),\n",
        "    DenseLayer(16, 16),\n",
        "    DenseLayer(16, 5)\n",
        "])\n",
        "model.layers"
      ],
      "metadata": {
        "colab": {
          "base_uri": "https://localhost:8080/"
        },
        "id": "47sq02hCbAUj",
        "outputId": "ac2d94ef-0f37-48bf-c2ff-e66c51fa68a8"
      },
      "execution_count": null,
      "outputs": [
        {
          "output_type": "execute_result",
          "data": {
            "text/plain": [
              "[<__main__.DenseLayer at 0x7c2779e5e920>,\n",
              " <__main__.DenseLayer at 0x7c2779e5e2f0>,\n",
              " <__main__.DenseLayer at 0x7c2779e5f7f0>,\n",
              " <__main__.DenseLayer at 0x7c2779e5f910>]"
            ]
          },
          "metadata": {},
          "execution_count": 83
        }
      ]
    },
    {
      "cell_type": "code",
      "source": [
        "x = torch.rand(1, 5)\n",
        "x"
      ],
      "metadata": {
        "colab": {
          "base_uri": "https://localhost:8080/"
        },
        "id": "BZKkyi0PbvKJ",
        "outputId": "405155ae-4b81-40f1-a68f-f2d2f217d0b8"
      },
      "execution_count": null,
      "outputs": [
        {
          "output_type": "execute_result",
          "data": {
            "text/plain": [
              "tensor([[0.1859, 0.8999, 0.0493, 0.9131, 0.1491]])"
            ]
          },
          "metadata": {},
          "execution_count": 84
        }
      ]
    },
    {
      "cell_type": "code",
      "source": [
        "model.forward(x)"
      ],
      "metadata": {
        "colab": {
          "base_uri": "https://localhost:8080/"
        },
        "id": "vEXd1pvHb7uO",
        "outputId": "91de8760-f41a-4432-8ccf-274cb921e4b0"
      },
      "execution_count": null,
      "outputs": [
        {
          "output_type": "execute_result",
          "data": {
            "text/plain": [
              "tensor([[582.1529, 514.1935, 484.2546, 664.6760, 598.8702]])"
            ]
          },
          "metadata": {},
          "execution_count": 85
        }
      ]
    }
  ]
}