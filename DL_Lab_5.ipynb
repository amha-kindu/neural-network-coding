{
  "cells": [
    {
      "cell_type": "code",
      "execution_count": 16,
      "metadata": {
        "id": "wWxE1CPa5-qY"
      },
      "outputs": [],
      "source": [
        "import torch"
      ]
    },
    {
      "cell_type": "markdown",
      "metadata": {
        "id": "fM3XenkL6IGL"
      },
      "source": [
        "## Creating Layers"
      ]
    },
    {
      "cell_type": "code",
      "execution_count": 2,
      "metadata": {
        "id": "wxjHeQ2L6EG5"
      },
      "outputs": [],
      "source": [
        "class DenseLayer:\n",
        "  # Layer initialization\n",
        "  def __init__(self, n_inputs, n_neurons):\n",
        "    # Initialize weights and biases\n",
        "    self.weights = 0.01 * torch.rand(n_inputs, n_neurons)\n",
        "    self.biases = torch.zeros((1, n_neurons))\n",
        "\n",
        "  # Forward pass\n",
        "  def forward(self, inputs):\n",
        "    # record the inputs\n",
        "    self.inputs = inputs\n",
        "    # Calculate output values from inputs, weights and biases\n",
        "    self.output = torch.matmul(inputs, self.weights) + self.biases\n",
        "\n",
        "  # Backward pass\n",
        "  def backward(self, dvalues):\n",
        "    # Gradients on parameters\n",
        "    self.dweights = torch.dot(self.inputs.T, dvalues)\n",
        "    self.dbiases = torch.sum(dvalues, axis=0, keepdims=True)\n",
        "    # Gradient on values\n",
        "    self.dinputs = torch.dot(dvalues, self.weights.T)"
      ]
    },
    {
      "cell_type": "markdown",
      "metadata": {
        "id": "KU4g8R5m6L4W"
      },
      "source": [
        "## Activation Functions"
      ]
    },
    {
      "cell_type": "code",
      "execution_count": 3,
      "metadata": {
        "id": "ekTPeeh06O2f"
      },
      "outputs": [],
      "source": [
        "class Activation_ReLU:\n",
        "  # Forward pass\n",
        "  def forward(self, inputs):\n",
        "    # Remember input values\n",
        "    self.inputs = inputs\n",
        "    self.output = torch.max(torch.tensor(0),inputs)\n",
        "  # Backward pass\n",
        "  def backward(self, dvalues):\n",
        "    self.dinputs = dvalues\n",
        "    # Zero gradient where input values were negative\n",
        "    self.dinputs[self.inputs <= 0] = 0"
      ]
    },
    {
      "cell_type": "code",
      "execution_count": 4,
      "metadata": {
        "id": "MgJQmWIl6SOW"
      },
      "outputs": [],
      "source": [
        "class Activation_Softmax:\n",
        "  # Forward pass\n",
        "  def forward(self, inputs):\n",
        "    # Get unnormalized probabilities\n",
        "    exp_values = torch.exp(inputs - torch.max(inputs, axis=1, keepdim=True).values)\n",
        "    # Normalize them for each sample\n",
        "    probabilities = exp_values / torch.sum(exp_values, axis=1, keepdim=True)\n",
        "    self.output = probabilities\n",
        "  # Backward pass\n",
        "  def backward(self, dvalues):\n",
        "    # Create uninitialized array\n",
        "    self.dinputs = torch.empty_like(dvalues)\n",
        "    # Enumerate outputs and gradients\n",
        "    for index, (single_output, single_dvalues) in enumerate(zip(self.output, dvalues)):\n",
        "      # Flatten output array\n",
        "      single_output = single_output.reshape(-1, 1)\n",
        "      # Calculate Jacobian matrix of the output and\n",
        "      jacobian_matrix = torch.diagflat(single_output) - torch.dot(single_output, single_output.T)\n",
        "    # Calculate sample-wise gradient\n",
        "    # and add it to the array of sample gradients\n",
        "    self.dinputs[index] = torch.dot(jacobian_matrix, single_dvalues)"
      ]
    },
    {
      "cell_type": "markdown",
      "metadata": {
        "id": "4xr7FgVh6ZbX"
      },
      "source": [
        "## Loss"
      ]
    },
    {
      "cell_type": "code",
      "execution_count": 5,
      "metadata": {
        "id": "T2sIQaNy6Z8N"
      },
      "outputs": [],
      "source": [
        "class Loss_CategoricalCrossentropy() :\n",
        "  # Forward pass\n",
        "  def forward(self, y_pred, y_true):\n",
        "    samples = len(y_pred)\n",
        "    # Clip data to prevent division by 0\n",
        "    # Clip both sides to not drag mean towards any value\n",
        "    y_pred_clipped = torch.clip(y_pred, 1e-8, 1 - 1e-8)\n",
        "    # only if categorical labels\n",
        "    if len(y_true.shape) == 1:\n",
        "      correct_confidences = y_pred_clipped[range(samples), y_true]\n",
        "    # Mask values - only for one-hot encoded labels\n",
        "    elif len(y_true.shape) == 2:\n",
        "      correct_confidences = torch.sum(y_pred_clipped * y_true, axis=1)\n",
        "    log_loss = -torch.log(correct_confidences)\n",
        "    data_loss = torch.mean(log_loss)\n",
        "    return data_loss\n",
        "  \n",
        "  # Backward pass\n",
        "  def backward(self, dvalues, y_true):\n",
        "    # Number of samples\n",
        "    samples = len(dvalues)\n",
        "    # Number of labels in every sample\n",
        "    # We'll use the first sample to count them\n",
        "    labels = len(dvalues[0])\n",
        "    # If labels are sparse, turn them into one-hot vector\n",
        "    if len(y_true.shape) == 1:\n",
        "      y_true = torch.eye(labels)[y_true]\n",
        "    # Calculate gradient\n",
        "    self.dinputs = -y_true / dvalues\n",
        "    # Normalize gradient\n",
        "    self.dinputs = self.dinputs / samples"
      ]
    },
    {
      "cell_type": "markdown",
      "metadata": {
        "id": "OW9KB2zJ6gTm"
      },
      "source": [
        "## Accuracy"
      ]
    },
    {
      "cell_type": "code",
      "execution_count": 6,
      "metadata": {
        "id": "OQLwwN_46fQw"
      },
      "outputs": [],
      "source": [
        "class Accuracy():\n",
        "  def calculate(self, y_pred, y_true):\n",
        "    predictions = torch.argmax(y_pred, axis=1)\n",
        "    if len(y_true.shape) == 2:\n",
        "      y_true = torch.argmax(y_true, axis=1)\n",
        "    accuracy = torch.mean((predictions == y_true).float())\n",
        "    return accuracy"
      ]
    },
    {
      "cell_type": "markdown",
      "metadata": {
        "id": "l-n8cS691KcR"
      },
      "source": [
        "## Optimizers"
      ]
    },
    {
      "cell_type": "code",
      "execution_count": 7,
      "metadata": {
        "id": "Kr7PNtTD1QZi"
      },
      "outputs": [],
      "source": [
        "class Optimizer_SGD:\n",
        "  # Initialize optimizer - set settings,\n",
        "  def __init__(self, model, learning_rate=0.01):\n",
        "    self.learning_rate = learning_rate\n",
        "    self.model = model\n",
        "    \n",
        "  def step(self):\n",
        "    for layer in self.model.layers:\n",
        "      self.update_params(layer)\n",
        "      \n",
        "  def zero_grad(self):\n",
        "    for layer in self.model.layers:\n",
        "      layer.dweights = 0\n",
        "      layer.dbiases = 0\n",
        "      \n",
        "  # Update parameters\n",
        "  def update_params(self, layer):\n",
        "    layer.weights += -self.learning_rate * layer.dweights\n",
        "    layer.biases += -self.learning_rate * layer.dbiases"
      ]
    },
    {
      "cell_type": "markdown",
      "metadata": {
        "id": "poYXhvM72AcG"
      },
      "source": [
        "## Training and Testing"
      ]
    },
    {
      "cell_type": "code",
      "execution_count": 8,
      "metadata": {
        "id": "2XgPAnKr2QDx"
      },
      "outputs": [],
      "source": [
        "import numpy as np\n",
        "from sklearn.datasets import load_iris"
      ]
    },
    {
      "cell_type": "code",
      "execution_count": 9,
      "metadata": {
        "id": "fpNYiNhd2RFa"
      },
      "outputs": [],
      "source": [
        "# Load the Iris dataset from scikit-learn\n",
        "iris = load_iris()\n",
        "X = iris.data\n",
        "y = iris.target"
      ]
    },
    {
      "cell_type": "code",
      "execution_count": 10,
      "metadata": {
        "id": "Ymhw7fKV2T8d"
      },
      "outputs": [],
      "source": [
        "# Convert the NumPy arrays to PyTorch tensors\n",
        "X = torch.tensor(X, dtype=torch.float32)\n",
        "y = torch.tensor(y, dtype=torch.int64)"
      ]
    },
    {
      "cell_type": "code",
      "execution_count": 11,
      "metadata": {
        "colab": {
          "base_uri": "https://localhost:8080/"
        },
        "id": "pE5pvxKk2WZG",
        "outputId": "5e034625-9498-4ecd-c405-cf5dc07abadf"
      },
      "outputs": [
        {
          "name": "stdout",
          "output_type": "stream",
          "text": [
            "X shape: torch.Size([150, 4])\n",
            "y shape: torch.Size([150])\n",
            "Feature names: ['sepal length (cm)', 'sepal width (cm)', 'petal length (cm)', 'petal width (cm)']\n",
            "Class names: ['setosa' 'versicolor' 'virginica']\n",
            "tensor([[5.1000, 3.5000, 1.4000, 0.2000],\n",
            "        [4.9000, 3.0000, 1.4000, 0.2000],\n",
            "        [4.7000, 3.2000, 1.3000, 0.2000],\n",
            "        [4.6000, 3.1000, 1.5000, 0.2000],\n",
            "        [5.0000, 3.6000, 1.4000, 0.2000]])\n",
            "tensor([0, 0, 0, 0, 0])\n"
          ]
        }
      ],
      "source": [
        "print(\"X shape:\", X.shape)\n",
        "print(\"y shape:\", y.shape)\n",
        "print(\"Feature names:\", iris.feature_names)\n",
        "print(\"Class names:\", iris.target_names)\n",
        "print(X[:5])\n",
        "print(y[:5])"
      ]
    },
    {
      "cell_type": "code",
      "execution_count": null,
      "metadata": {},
      "outputs": [],
      "source": [
        "import torch.nn as nn\n",
        "\n",
        "class CustomModel(nn.Module):\n",
        "    def __init__(self):\n",
        "        super(self).__init__()\n",
        "\n",
        "        self.layers = [\n",
        "            DenseLayer(4, 16),\n",
        "            Activation_ReLU(),\n",
        "            DenseLayer(16, 3),\n",
        "            Activation_Softmax()\n",
        "        ]\n",
        "\n",
        "    def forward(self, x):\n",
        "        x = None\n",
        "        for layer in self.layers:\n",
        "            x = layer.forward(x)\n",
        "        return x"
      ]
    },
    {
      "cell_type": "code",
      "execution_count": null,
      "metadata": {},
      "outputs": [],
      "source": [
        "model = CustomModel()\n",
        "loss = Loss_CategoricalCrossentropy()\n",
        "optimizer = Optimizer_SGD(model)\n",
        "\n",
        "# Training loop\n",
        "epochs = 100\n",
        "\n",
        "for epoch in range(epochs):\n",
        "    model.train()  # Set the model to training mode\n",
        "\n",
        "    for batch_idx, (inputs, targets) in enumerate(torch.concat([X, y])):\n",
        "        optimizer.zero_grad()  # Zero the gradients\n",
        "\n",
        "        # Forward pass\n",
        "        outputs = model(inputs)\n",
        "\n",
        "        # Calculate the loss\n",
        "        t_loss = loss.forward(outputs, targets)\n",
        "\n",
        "        # Backward pass\n",
        "        loss.backward()\n",
        "\n",
        "        # Update weights\n",
        "        optimizer.step()\n",
        "\n",
        "        # Print progress\n",
        "        if batch_idx % 100 == 0:\n",
        "            print(f'Epoch {epoch + 1}/{epochs}, Batch {batch_idx}/{len(X)}, Loss: {loss.item()}')\n",
        "\n",
        "print(\"Training complete!\")\n"
      ]
    }
  ],
  "metadata": {
    "colab": {
      "provenance": []
    },
    "kernelspec": {
      "display_name": "Python 3",
      "name": "python3"
    },
    "language_info": {
      "name": "python"
    }
  },
  "nbformat": 4,
  "nbformat_minor": 0
}
